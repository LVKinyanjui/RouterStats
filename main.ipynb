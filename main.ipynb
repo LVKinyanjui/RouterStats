{
 "cells": [
  {
   "cell_type": "markdown",
   "id": "f855a1d3-d659-4e29-87fc-c441a92bae06",
   "metadata": {},
   "source": [
    "<h1 align=center> Analysing Router Downtime </h1>\n",
    "\n",
    "We try to visualize the text logs our router outputs to figure out why it keeps losing its internet connection."
   ]
  },
  {
   "cell_type": "code",
   "execution_count": 2,
   "id": "8c47aa56-a31b-4032-8f36-91036438e8fd",
   "metadata": {
    "tags": []
   },
   "outputs": [],
   "source": [
    "import re\n",
    "import numpy as np\n",
    "import pandas as pd\n",
    "import matplotlib.pyplot as plt"
   ]
  },
  {
   "cell_type": "code",
   "execution_count": 26,
   "id": "493f9e76-b186-4bec-8731-220b1ac03a25",
   "metadata": {
    "tags": []
   },
   "outputs": [],
   "source": [
    "with open(\"data/hwontdebuglog(4).log\", encoding=\"utf-8\") as f:\n",
    "    entries = f.readlines()"
   ]
  },
  {
   "cell_type": "code",
   "execution_count": 27,
   "id": "d7e82637-2e75-40b9-8b49-025962fc3938",
   "metadata": {
    "scrolled": true,
    "tags": []
   },
   "outputs": [
    {
     "data": {
      "text/plain": [
       "['Manufacturer:Huawei Technologies Co., Ltd;\\n',\n",
       " 'ProductClass:HG8145V5;\\n',\n",
       " 'SerialNumber:48575443B476659D;\\n',\n",
       " 'IP:192.168.100.1;\\n',\n",
       " 'HWVer:15AD.A;\\n',\n",
       " 'SWVer:V5R019C00S125;\\n',\n",
       " '\\n',\n",
       " \"1981-01-01 00:00:26 [Debug][Debug-Log] static:ETH Port 1 link status changed to Up,Rate is 100 Mbit/s',Work Mode is Full-duplex\\n\",\n",
       " '1981-01-01 00:00:26 [Debug][Debug-Log] static:[L2M]upport state change process. Status=up.\\n',\n",
       " '1981-01-01 00:00:27 [Debug][Debug-Log] static:[WAN_MNGT] ipv4 if set wan state up pre, wan Index=0x10101001.\\n',\n",
       " '1981-01-01 00:00:27 [Debug][Debug-Log] static:[WAN_MNGT] ipv4 if set wan state up, wan Index=0x10101001.\\n',\n",
       " '1981-01-01 00:00:31 [Debug][Debug-Log] static:[ra]send ra notify message! m[0],o[1],lanPrefix[null],mtu[1472],gateway[fe80::1]\\n',\n",
       " '1981-01-01 00:08:13 [Informational][Debug-Log] static:The service quality of DNS on wan1 is low\\n',\n",
       " '1981-01-01 00:09:13 [Informational][Debug-Log] static:The service quality of DNS on wan1 is recovered\\n',\n",
       " '1981-01-01 00:13:13 [Informational][Debug-Log] static:The service quality of DNS on wan1 is low\\n',\n",
       " '1981-01-01 00:17:13 [Informational][Debug-Log] static:The service quality of DNS on wan1 is recovered\\n',\n",
       " '1981-01-01 00:23:13 [Informational][Debug-Log] static:The service quality of DNS on wan1 is low\\n',\n",
       " '1981-01-01 00:24:13 [Informational][Debug-Log] static:The service quality of DNS on wan1 is recovered\\n',\n",
       " '1981-01-01 00:30:12 [Informational][Debug-Log] static:The service quality of DNS on wan1 is low\\n',\n",
       " '1981-01-01 00:32:12 [Informational][Debug-Log] static:The service quality of DNS on wan1 is recovered\\n',\n",
       " '1981-01-01 00:35:12 [Informational][Debug-Log] static:The service quality of DNS on wan1 is low\\n',\n",
       " '1981-01-01 00:36:12 [Informational][Debug-Log] static:The service quality of DNS on wan1 is recovered\\n',\n",
       " '1981-01-01 00:59:12 [Informational][Debug-Log] static:The service quality of DNS on wan1 is low\\n',\n",
       " '1981-01-01 01:02:12 [Informational][Debug-Log] static:The service quality of DNS on wan1 is recovered\\n',\n",
       " '1981-01-01 01:09:12 [Informational][Debug-Log] static:The service quality of DNS on wan1 is low\\n',\n",
       " '1981-01-01 01:10:12 [Informational][Debug-Log] static:The service quality of DNS on wan1 is recovered\\n',\n",
       " '1981-01-01 01:13:12 [Informational][Debug-Log] static:The service quality of DNS on wan1 is low\\n',\n",
       " '1981-01-01 01:18:12 [Informational][Debug-Log] static:The service quality of DNS on wan1 is recovered\\n',\n",
       " '1981-01-01 01:21:11 [Informational][Debug-Log] static:The service quality of DNS on wan1 is low\\n',\n",
       " '1981-01-01 01:23:11 [Informational][Debug-Log] static:The service quality of DNS on wan1 is recovered\\n',\n",
       " '1981-01-01 01:26:11 [Informational][Debug-Log] static:The service quality of DNS on wan1 is low\\n',\n",
       " '1981-01-01 00:00:11 [Debug][Debug-Log] static:[WAN_MNGT] ipv4 if set wan state up pre, wan Index=0x30000001.\\n',\n",
       " '1981-01-01 00:00:11 [Debug][Debug-Log] static:[WAN_MNGT] ipv4 if set wan state up, wan Index=0x30000001.\\n',\n",
       " '1981-01-01 00:00:13 [Debug][Debug-Log] static:[WAN_MNGT] ipv6 if set wan state up, wan Index=0x30000001.\\n',\n",
       " '1981-01-01 00:00:13 [Debug][Debug-Log] static:[WAN_MNGT] ipv4 if set wan state down, wan Index=0x30000001.\\n',\n",
       " '1981-01-01 00:00:13 [Debug][Debug-Log] static:[WAN_MNGT] ipv4 if set wan state up pre, wan Index=0x30000001.\\n',\n",
       " '1981-01-01 00:00:13 [Debug][Debug-Log] static:[WAN_MNGT] ipv4 if set wan state up, wan Index=0x30000001.\\n',\n",
       " '1981-01-01 00:00:11 [Debug][Debug-Log] static:[WAN_MNGT] ipv4 if set wan state up pre, wan Index=0x30000001.\\n',\n",
       " '1981-01-01 00:00:11 [Debug][Debug-Log] static:[WAN_MNGT] ipv4 if set wan state up, wan Index=0x30000001.\\n',\n",
       " '1981-01-01 00:00:13 [Debug][Debug-Log] static:[WAN_MNGT] ipv6 if set wan state up, wan Index=0x30000001.\\n',\n",
       " '1981-01-01 00:00:13 [Debug][Debug-Log] static:[WAN_MNGT] ipv4 if set wan state down, wan Index=0x30000001.\\n',\n",
       " '1981-01-01 00:00:13 [Debug][Debug-Log] static:[WAN_MNGT] ipv4 if set wan state up pre, wan Index=0x30000001.\\n',\n",
       " '1981-01-01 00:00:13 [Debug][Debug-Log] static:[WAN_MNGT] ipv4 if set wan state up, wan Index=0x30000001.\\n',\n",
       " \"1981-01-01 00:00:27 [Debug][Debug-Log] static:ETH Port 1 link status changed to Up,Rate is 100 Mbit/s',Work Mode is Full-duplex\\n\",\n",
       " '1981-01-01 00:00:27 [Debug][Debug-Log] static:[L2M]upport state change process. Status=up.\\n',\n",
       " '1981-01-01 00:00:27 [Debug][Debug-Log] static:[WAN_MNGT] ipv4 if set wan state up pre, wan Index=0x10101001.\\n',\n",
       " '1981-01-01 00:00:27 [Debug][Debug-Log] static:[WAN_MNGT] ipv4 if set wan state up, wan Index=0x10101001.\\n',\n",
       " '1981-01-01 00:00:31 [Debug][Debug-Log] static:[ra]send ra notify message! m[0],o[1],lanPrefix[null],mtu[1472],gateway[fe80::1]\\n',\n",
       " '1981-01-01 00:10:12 [Informational][Debug-Log] static:The service quality of DNS on wan1 is low\\n',\n",
       " '1981-01-01 00:12:12 [Informational][Debug-Log] static:The service quality of DNS on wan1 is recovered\\n',\n",
       " '1981-01-01 00:23:11 [Informational][Debug-Log] static:The service quality of DNS on wan1 is low\\n',\n",
       " '1981-01-01 00:26:11 [Informational][Debug-Log] static:The service quality of DNS on wan1 is recovered\\n',\n",
       " '1981-01-01 00:29:11 [Informational][Debug-Log] static:The service quality of DNS on wan1 is low\\n',\n",
       " '1981-01-01 00:32:11 [Informational][Debug-Log] static:The service quality of DNS on wan1 is recovered\\n',\n",
       " '1981-01-01 00:36:11 [Informational][Debug-Log] static:The service quality of DNS on wan1 is low\\n',\n",
       " '1981-01-01 00:39:11 [Informational][Debug-Log] static:The service quality of DNS on wan1 is recovered\\n',\n",
       " '1981-01-01 00:42:11 [Informational][Debug-Log] static:The service quality of DNS on wan1 is low\\n',\n",
       " '1981-01-01 00:45:11 [Informational][Debug-Log] static:The service quality of DNS on wan1 is recovered\\n',\n",
       " '1981-01-01 00:52:10 [Informational][Debug-Log] static:The service quality of DNS on wan1 is low\\n',\n",
       " '1981-01-01 00:53:10 [Informational][Debug-Log] static:The service quality of DNS on wan1 is recovered\\n',\n",
       " '1981-01-01 00:57:55 [Debug][Debug-Log] static:[WAN_MNGT] ipv4 if set wan state down, wan Index=0x10101001.\\n',\n",
       " '1981-01-01 00:57:56 [Critical][Debug-Log] static:[dhcpc]get wan[wan1] ifindex[18] and Mac Addr[04:33:89:26:5a:0e] success!\\n',\n",
       " '1981-01-01 00:57:56 [Debug][Debug-Log] static:[dhcpc]send Discover, wan[wan1], xid[eb51b716], mac[04:33:89:26:5a:0e], requestip[10.13.5.24]\\n',\n",
       " '1981-01-01 00:57:57 [Debug][Debug-Log] static:[dhcpc]receive Ack, wan[wan1], xid[eb51b716], mac[04:33:89:26:5a:0e], request serverip[10.122.0.251], yourip[10.13.5.24], gateway ip[10.13.0.2], dns1[5.11.11.11], dns2[8.8.8.8]\\n',\n",
       " '1981-01-01 00:57:57 [Debug][Debug-Log] static:[WAN_MNGT] ipv4 if set wan state up pre, wan Index=0x10101001.\\n',\n",
       " '1981-01-01 00:57:57 [Debug][Debug-Log] static:[WAN_MNGT] ipv4 if set wan state up, wan Index=0x10101001.\\n',\n",
       " '1981-01-01 00:00:11 [Debug][Debug-Log] static:[WAN_MNGT] ipv4 if set wan state up pre, wan Index=0x30000001.\\n',\n",
       " '1981-01-01 00:00:11 [Debug][Debug-Log] static:[WAN_MNGT] ipv4 if set wan state up, wan Index=0x30000001.\\n',\n",
       " '1981-01-01 00:00:13 [Debug][Debug-Log] static:[WAN_MNGT] ipv6 if set wan state up, wan Index=0x30000001.\\n',\n",
       " '1981-01-01 00:00:13 [Debug][Debug-Log] static:[WAN_MNGT] ipv4 if set wan state down, wan Index=0x30000001.\\n',\n",
       " '1981-01-01 00:00:13 [Debug][Debug-Log] static:[WAN_MNGT] ipv4 if set wan state up pre, wan Index=0x30000001.\\n',\n",
       " '1981-01-01 00:00:13 [Debug][Debug-Log] static:[WAN_MNGT] ipv4 if set wan state up, wan Index=0x30000001.\\n',\n",
       " '1981-01-01 00:00:14 [Critical][Debug-Log] static:[dhcpc]get wan[wan1] ifindex[18] and Mac Addr[04:33:89:26:5a:0e] success!\\n',\n",
       " '1981-01-01 00:00:14 [Debug][Debug-Log] static:[dhcpc]send Discover, wan[wan1], xid[9bfcb674], mac[04:33:89:26:5a:0e], requestip[10.13.5.24]\\n',\n",
       " \"1981-01-01 00:00:27 [Debug][Debug-Log] static:ETH Port 1 link status changed to Up,Rate is 100 Mbit/s',Work Mode is Full-duplex\\n\",\n",
       " '1981-01-01 00:00:27 [Debug][Debug-Log] static:[L2M]upport state change process. Status=up.\\n',\n",
       " '1981-01-01 00:00:28 [Debug][Debug-Log] static:[dhcpc]receive Ack, wan[wan1], xid[75ea3468], mac[04:33:89:26:5a:0e], request serverip[10.122.0.251], yourip[10.13.5.24], gateway ip[10.13.0.2], dns1[5.11.11.11], dns2[8.8.8.8]\\n',\n",
       " '1981-01-01 00:00:28 [Debug][Debug-Log] static:[WAN_MNGT] ipv4 if set wan state up pre, wan Index=0x10101001.\\n',\n",
       " '1981-01-01 00:00:28 [Debug][Debug-Log] static:[WAN_MNGT] ipv4 if set wan state up, wan Index=0x10101001.\\n',\n",
       " '1981-01-01 00:00:31 [Debug][Debug-Log] static:[ra]send ra notify message! m[0],o[1],lanPrefix[null],mtu[1472],gateway[fe80::1]\\n',\n",
       " '1981-01-01 00:14:13 [Informational][Debug-Log] static:The service quality of DNS on wan1 is low\\n',\n",
       " '1981-01-01 00:16:13 [Informational][Debug-Log] static:The service quality of DNS on wan1 is recovered\\n',\n",
       " '1981-01-01 00:30:29 [Debug][Debug-Log] static:[dhcpc]receive Ack, wan[wan1], xid[75ea3468], mac[04:33:89:26:5a:0e], request serverip[10.122.0.251], yourip[10.13.5.24], gateway ip[10.13.0.2], dns1[5.11.11.11], dns2[8.8.8.8]\\n',\n",
       " '1981-01-01 00:32:12 [Informational][Debug-Log] static:The service quality of DNS on wan1 is low\\n',\n",
       " '1981-01-01 00:33:12 [Informational][Debug-Log] static:The service quality of DNS on wan1 is recovered\\n',\n",
       " '1981-01-01 00:38:12 [Informational][Debug-Log] static:The service quality of DNS on wan1 is low\\n',\n",
       " '1981-01-01 00:40:12 [Informational][Debug-Log] static:The service quality of DNS on wan1 is recovered\\n',\n",
       " '1981-01-01 00:44:12 [Informational][Debug-Log] static:The service quality of DNS on wan1 is low\\n',\n",
       " '1981-01-01 00:47:12 [Informational][Debug-Log] static:The service quality of DNS on wan1 is recovered\\n',\n",
       " '1981-01-01 01:00:29 [Debug][Debug-Log] static:[dhcpc]receive Ack, wan[wan1], xid[75ea3468], mac[04:33:89:26:5a:0e], request serverip[10.122.0.251], yourip[10.13.5.24], gateway ip[10.13.0.2], dns1[5.11.11.11], dns2[8.8.8.8]\\n',\n",
       " '1981-01-01 01:04:12 [Informational][Debug-Log] static:The service quality of DNS on wan1 is low\\n',\n",
       " '1981-01-01 01:05:12 [Informational][Debug-Log] static:The service quality of DNS on wan1 is recovered\\n',\n",
       " '1981-01-01 01:12:11 [Informational][Debug-Log] static:The service quality of DNS on wan1 is low\\n',\n",
       " '1981-01-01 01:16:11 [Informational][Debug-Log] static:The service quality of DNS on wan1 is recovered\\n',\n",
       " '1981-01-01 01:27:11 [Informational][Debug-Log] static:The service quality of DNS on wan1 is low\\n',\n",
       " '1981-01-01 01:29:11 [Informational][Debug-Log] static:The service quality of DNS on wan1 is recovered\\n',\n",
       " '1981-01-01 01:30:29 [Debug][Debug-Log] static:[dhcpc]receive Ack, wan[wan1], xid[75ea3468], mac[04:33:89:26:5a:0e], request serverip[10.122.0.251], yourip[10.13.5.24], gateway ip[10.13.0.2], dns1[5.11.11.11], dns2[8.8.8.8]\\n',\n",
       " '1981-01-01 01:33:11 [Informational][Debug-Log] static:The service quality of DNS on wan1 is low\\n',\n",
       " '1981-01-01 01:53:11 [Informational][Debug-Log] static:The service quality of DNS on wan1 is recovered\\n',\n",
       " '1981-01-01 01:58:10 [Informational][Debug-Log] static:The service quality of DNS on wan1 is low\\n',\n",
       " '1981-01-01 02:00:10 [Informational][Debug-Log] static:The service quality of DNS on wan1 is recovered\\n',\n",
       " '1981-01-01 02:00:29 [Debug][Debug-Log] static:[dhcpc]receive Ack, wan[wan1], xid[75ea3468], mac[04:33:89:26:5a:0e], request serverip[10.122.0.251], yourip[10.13.5.24], gateway ip[10.13.0.2], dns1[5.11.11.11], dns2[8.8.8.8]\\n',\n",
       " '1981-01-01 02:04:10 [Informational][Debug-Log] static:The service quality of DNS on wan1 is low\\n',\n",
       " '1981-01-01 02:05:10 [Informational][Debug-Log] static:The service quality of DNS on wan1 is recovered\\n',\n",
       " '1981-01-01 02:10:10 [Informational][Debug-Log] static:The service quality of DNS on wan1 is low\\n',\n",
       " '1981-01-01 02:12:10 [Informational][Debug-Log] static:The service quality of DNS on wan1 is recovered\\n',\n",
       " '1981-01-01 02:18:10 [Informational][Debug-Log] static:The service quality of DNS on wan1 is low\\n',\n",
       " '1981-01-01 02:20:10 [Informational][Debug-Log] static:The service quality of DNS on wan1 is recovered\\n',\n",
       " '1981-01-01 02:30:29 [Debug][Debug-Log] static:[dhcpc]receive Ack, wan[wan1], xid[75ea3468], mac[04:33:89:26:5a:0e], request serverip[10.122.0.251], yourip[10.13.5.24], gateway ip[10.13.0.2], dns1[5.11.11.11], dns2[8.8.8.8]\\n',\n",
       " '1981-01-01 02:35:10 [Informational][Debug-Log] static:The service quality of DNS on wan1 is low\\n',\n",
       " '1981-01-01 02:38:10 [Informational][Debug-Log] static:The service quality of DNS on wan1 is recovered\\n',\n",
       " '1981-01-01 02:41:10 [Informational][Debug-Log] static:The service quality of DNS on wan1 is low\\n',\n",
       " '1981-01-01 02:45:09 [Informational][Debug-Log] static:The service quality of DNS on wan1 is recovered\\n',\n",
       " '1981-01-01 02:48:09 [Informational][Debug-Log] static:The service quality of DNS on wan1 is low\\n',\n",
       " '1981-01-01 02:50:09 [Informational][Debug-Log] static:The service quality of DNS on wan1 is recovered\\n',\n",
       " '1981-01-01 02:54:09 [Informational][Debug-Log] static:The service quality of DNS on wan1 is low\\n',\n",
       " '1981-01-01 03:00:30 [Debug][Debug-Log] static:[dhcpc]receive Ack, wan[wan1], xid[75ea3468], mac[04:33:89:26:5a:0e], request serverip[10.122.0.251], yourip[10.13.5.24], gateway ip[10.13.0.2], dns1[5.11.11.11], dns2[8.8.8.8]\\n',\n",
       " '1981-01-01 00:00:11 [Debug][Debug-Log] static:[WAN_MNGT] ipv4 if set wan state up pre, wan Index=0x30000001.\\n',\n",
       " '1981-01-01 00:00:11 [Debug][Debug-Log] static:[WAN_MNGT] ipv4 if set wan state up, wan Index=0x30000001.\\n',\n",
       " '1981-01-01 00:00:13 [Debug][Debug-Log] static:[WAN_MNGT] ipv6 if set wan state up, wan Index=0x30000001.\\n',\n",
       " '1981-01-01 00:00:13 [Debug][Debug-Log] static:[WAN_MNGT] ipv4 if set wan state down, wan Index=0x30000001.\\n',\n",
       " '1981-01-01 00:00:13 [Debug][Debug-Log] static:[WAN_MNGT] ipv4 if set wan state up pre, wan Index=0x30000001.\\n',\n",
       " '1981-01-01 00:00:13 [Debug][Debug-Log] static:[WAN_MNGT] ipv4 if set wan state up, wan Index=0x30000001.\\n',\n",
       " '1981-01-01 00:00:11 [Debug][Debug-Log] static:[WAN_MNGT] ipv4 if set wan state up pre, wan Index=0x30000001.\\n',\n",
       " '1981-01-01 00:00:11 [Debug][Debug-Log] static:[WAN_MNGT] ipv4 if set wan state up, wan Index=0x30000001.\\n',\n",
       " '1981-01-01 00:00:13 [Debug][Debug-Log] static:[WAN_MNGT] ipv6 if set wan state up, wan Index=0x30000001.\\n',\n",
       " '1981-01-01 00:00:13 [Debug][Debug-Log] static:[WAN_MNGT] ipv4 if set wan state down, wan Index=0x30000001.\\n',\n",
       " '1981-01-01 00:00:13 [Debug][Debug-Log] static:[WAN_MNGT] ipv4 if set wan state up pre, wan Index=0x30000001.\\n',\n",
       " '1981-01-01 00:00:13 [Debug][Debug-Log] static:[WAN_MNGT] ipv4 if set wan state up, wan Index=0x30000001.\\n',\n",
       " '1981-01-01 00:00:11 [Debug][Debug-Log] static:[WAN_MNGT] ipv4 if set wan state up pre, wan Index=0x30000001.\\n',\n",
       " '1981-01-01 00:00:11 [Debug][Debug-Log] static:[WAN_MNGT] ipv4 if set wan state up, wan Index=0x30000001.\\n',\n",
       " '1981-01-01 00:00:13 [Debug][Debug-Log] static:[WAN_MNGT] ipv6 if set wan state up, wan Index=0x30000001.\\n',\n",
       " '1981-01-01 00:00:13 [Debug][Debug-Log] static:[WAN_MNGT] ipv4 if set wan state down, wan Index=0x30000001.\\n',\n",
       " '1981-01-01 00:00:13 [Debug][Debug-Log] static:[WAN_MNGT] ipv4 if set wan state up pre, wan Index=0x30000001.\\n',\n",
       " '1981-01-01 00:00:13 [Debug][Debug-Log] static:[WAN_MNGT] ipv4 if set wan state up, wan Index=0x30000001.\\n',\n",
       " '1981-01-01 00:00:11 [Debug][Debug-Log] static:[WAN_MNGT] ipv4 if set wan state up pre, wan Index=0x30000001.\\n',\n",
       " '1981-01-01 00:00:11 [Debug][Debug-Log] static:[WAN_MNGT] ipv4 if set wan state up, wan Index=0x30000001.\\n',\n",
       " '1981-01-01 00:00:13 [Debug][Debug-Log] static:[WAN_MNGT] ipv6 if set wan state up, wan Index=0x30000001.\\n',\n",
       " '1981-01-01 00:00:13 [Debug][Debug-Log] static:[WAN_MNGT] ipv4 if set wan state down, wan Index=0x30000001.\\n',\n",
       " '1981-01-01 00:00:13 [Debug][Debug-Log] static:[WAN_MNGT] ipv4 if set wan state up pre, wan Index=0x30000001.\\n',\n",
       " '1981-01-01 00:00:13 [Debug][Debug-Log] static:[WAN_MNGT] ipv4 if set wan state up, wan Index=0x30000001.\\n',\n",
       " '1981-01-01 00:00:11 [Debug][Debug-Log] static:[WAN_MNGT] ipv4 if set wan state up pre, wan Index=0x30000001.\\n',\n",
       " '1981-01-01 00:00:11 [Debug][Debug-Log] static:[WAN_MNGT] ipv4 if set wan state up, wan Index=0x30000001.\\n',\n",
       " '1981-01-01 00:00:13 [Debug][Debug-Log] static:[WAN_MNGT] ipv6 if set wan state up, wan Index=0x30000001.\\n',\n",
       " '1981-01-01 00:00:13 [Debug][Debug-Log] static:[WAN_MNGT] ipv4 if set wan state down, wan Index=0x30000001.\\n',\n",
       " '1981-01-01 00:00:13 [Debug][Debug-Log] static:[WAN_MNGT] ipv4 if set wan state up pre, wan Index=0x30000001.\\n',\n",
       " '1981-01-01 00:00:13 [Debug][Debug-Log] static:[WAN_MNGT] ipv4 if set wan state up, wan Index=0x30000001.\\n',\n",
       " '1981-01-01 00:00:11 [Debug][Debug-Log] static:[WAN_MNGT] ipv4 if set wan state up pre, wan Index=0x30000001.\\n',\n",
       " '1981-01-01 00:00:11 [Debug][Debug-Log] static:[WAN_MNGT] ipv4 if set wan state up, wan Index=0x30000001.\\n',\n",
       " '1981-01-01 00:00:13 [Debug][Debug-Log] static:[WAN_MNGT] ipv6 if set wan state up, wan Index=0x30000001.\\n',\n",
       " '1981-01-01 00:00:13 [Debug][Debug-Log] static:[WAN_MNGT] ipv4 if set wan state down, wan Index=0x30000001.\\n',\n",
       " '1981-01-01 00:00:13 [Debug][Debug-Log] static:[WAN_MNGT] ipv4 if set wan state up pre, wan Index=0x30000001.\\n',\n",
       " '1981-01-01 00:00:13 [Debug][Debug-Log] static:[WAN_MNGT] ipv4 if set wan state up, wan Index=0x30000001.\\n',\n",
       " '1981-01-01 00:00:11 [Debug][Debug-Log] static:[WAN_MNGT] ipv4 if set wan state up pre, wan Index=0x30000001.\\n',\n",
       " '1981-01-01 00:00:11 [Debug][Debug-Log] static:[WAN_MNGT] ipv4 if set wan state up, wan Index=0x30000001.\\n',\n",
       " '1981-01-01 00:00:13 [Debug][Debug-Log] static:[WAN_MNGT] ipv6 if set wan state up, wan Index=0x30000001.\\n',\n",
       " '1981-01-01 00:00:13 [Debug][Debug-Log] static:[WAN_MNGT] ipv4 if set wan state down, wan Index=0x30000001.\\n',\n",
       " '1981-01-01 00:00:13 [Debug][Debug-Log] static:[WAN_MNGT] ipv4 if set wan state up pre, wan Index=0x30000001.\\n',\n",
       " '1981-01-01 00:00:13 [Debug][Debug-Log] static:[WAN_MNGT] ipv4 if set wan state up, wan Index=0x30000001.\\n',\n",
       " '1981-01-01 00:00:11 [Debug][Debug-Log] static:[WAN_MNGT] ipv4 if set wan state up pre, wan Index=0x30000001.\\n',\n",
       " '1981-01-01 00:00:11 [Debug][Debug-Log] static:[WAN_MNGT] ipv4 if set wan state up, wan Index=0x30000001.\\n',\n",
       " '1981-01-01 00:00:13 [Debug][Debug-Log] static:[WAN_MNGT] ipv6 if set wan state up, wan Index=0x30000001.\\n',\n",
       " '1981-01-01 00:00:13 [Debug][Debug-Log] static:[WAN_MNGT] ipv4 if set wan state down, wan Index=0x30000001.\\n',\n",
       " '1981-01-01 00:00:13 [Debug][Debug-Log] static:[WAN_MNGT] ipv4 if set wan state up pre, wan Index=0x30000001.\\n',\n",
       " '1981-01-01 00:00:13 [Debug][Debug-Log] static:[WAN_MNGT] ipv4 if set wan state up, wan Index=0x30000001.\\n',\n",
       " '1981-01-01 00:00:11 [Debug][Debug-Log] static:[WAN_MNGT] ipv4 if set wan state up pre, wan Index=0x30000001.\\n',\n",
       " '1981-01-01 00:00:11 [Debug][Debug-Log] static:[WAN_MNGT] ipv4 if set wan state up, wan Index=0x30000001.\\n',\n",
       " '1981-01-01 00:00:13 [Debug][Debug-Log] static:[WAN_MNGT] ipv6 if set wan state up, wan Index=0x30000001.\\n',\n",
       " '1981-01-01 00:00:13 [Debug][Debug-Log] static:[WAN_MNGT] ipv4 if set wan state down, wan Index=0x30000001.\\n',\n",
       " '1981-01-01 00:00:13 [Debug][Debug-Log] static:[WAN_MNGT] ipv4 if set wan state up pre, wan Index=0x30000001.\\n',\n",
       " '1981-01-01 00:00:13 [Debug][Debug-Log] static:[WAN_MNGT] ipv4 if set wan state up, wan Index=0x30000001.\\n',\n",
       " '1981-01-01 00:00:11 [Debug][Debug-Log] static:[WAN_MNGT] ipv4 if set wan state up pre, wan Index=0x30000001.\\n',\n",
       " '1981-01-01 00:00:11 [Debug][Debug-Log] static:[WAN_MNGT] ipv4 if set wan state up, wan Index=0x30000001.\\n',\n",
       " '1981-01-01 00:00:13 [Debug][Debug-Log] static:[WAN_MNGT] ipv6 if set wan state up, wan Index=0x30000001.\\n',\n",
       " '1981-01-01 00:00:13 [Debug][Debug-Log] static:[WAN_MNGT] ipv4 if set wan state down, wan Index=0x30000001.\\n',\n",
       " '1981-01-01 00:00:13 [Debug][Debug-Log] static:[WAN_MNGT] ipv4 if set wan state up pre, wan Index=0x30000001.\\n',\n",
       " '1981-01-01 00:00:13 [Debug][Debug-Log] static:[WAN_MNGT] ipv4 if set wan state up, wan Index=0x30000001.\\n',\n",
       " '1981-01-01 00:00:11 [Debug][Debug-Log] static:[WAN_MNGT] ipv4 if set wan state up pre, wan Index=0x30000001.\\n',\n",
       " '1981-01-01 00:00:11 [Debug][Debug-Log] static:[WAN_MNGT] ipv4 if set wan state up, wan Index=0x30000001.\\n',\n",
       " '1981-01-01 00:00:13 [Debug][Debug-Log] static:[WAN_MNGT] ipv6 if set wan state up, wan Index=0x30000001.\\n',\n",
       " '1981-01-01 00:00:13 [Debug][Debug-Log] static:[WAN_MNGT] ipv4 if set wan state down, wan Index=0x30000001.\\n',\n",
       " '1981-01-01 00:00:13 [Debug][Debug-Log] static:[WAN_MNGT] ipv4 if set wan state up pre, wan Index=0x30000001.\\n',\n",
       " '1981-01-01 00:00:13 [Debug][Debug-Log] static:[WAN_MNGT] ipv4 if set wan state up, wan Index=0x30000001.\\n',\n",
       " \"1981-01-01 00:00:18 [Debug][Debug-Log] static:ETH Port 1 link status changed to Up,Rate is 1000 Mbit/s',Work Mode is Full-duplex\\n\",\n",
       " '1981-01-01 00:00:18 [Debug][Debug-Log] static:[L2M]upport state change process. Status=up.\\n',\n",
       " '1981-01-01 00:00:18 [Debug][Debug-Log] static:[WAN_MNGT] ipv4 if set wan state up pre, wan Index=0x10101001.\\n',\n",
       " '1981-01-01 00:00:18 [Debug][Debug-Log] static:[WAN_MNGT] ipv4 if set wan state up, wan Index=0x10101001.\\n',\n",
       " '1981-01-01 00:00:19 [Debug][Debug-Log] static:ETH Port 1 link status changed to Down,Rate is --,Work Mode is --\\n',\n",
       " '1981-01-01 00:00:19 [Debug][Debug-Log] static:[L2M]upport state change process. Status=down.\\n',\n",
       " '1981-01-01 00:00:19 [Debug][Debug-Log] static:[WAN_MNGT] ipv4 if set wan state down, wan Index=0x10101001.\\n',\n",
       " '1981-01-01 00:00:11 [Debug][Debug-Log] static:[WAN_MNGT] ipv4 if set wan state up pre, wan Index=0x30000001.\\n',\n",
       " '1981-01-01 00:00:11 [Debug][Debug-Log] static:[WAN_MNGT] ipv4 if set wan state up, wan Index=0x30000001.\\n',\n",
       " '1981-01-01 00:00:13 [Debug][Debug-Log] static:[WAN_MNGT] ipv6 if set wan state up, wan Index=0x30000001.\\n',\n",
       " '1981-01-01 00:00:13 [Debug][Debug-Log] static:[WAN_MNGT] ipv4 if set wan state down, wan Index=0x30000001.\\n',\n",
       " '1981-01-01 00:00:13 [Debug][Debug-Log] static:[WAN_MNGT] ipv4 if set wan state up pre, wan Index=0x30000001.\\n',\n",
       " '1981-01-01 00:00:13 [Debug][Debug-Log] static:[WAN_MNGT] ipv4 if set wan state up, wan Index=0x30000001.\\n',\n",
       " \"1981-01-01 00:00:26 [Debug][Debug-Log] static:ETH Port 1 link status changed to Up,Rate is 100 Mbit/s',Work Mode is Full-duplex\\n\",\n",
       " '1981-01-01 00:00:26 [Debug][Debug-Log] static:[L2M]upport state change process. Status=up.\\n',\n",
       " '1981-01-01 00:00:27 [Debug][Debug-Log] static:[WAN_MNGT] ipv4 if set wan state up pre, wan Index=0x10101001.\\n',\n",
       " '1981-01-01 00:00:27 [Debug][Debug-Log] static:[WAN_MNGT] ipv4 if set wan state up, wan Index=0x10101001.\\n',\n",
       " '1981-01-01 00:00:31 [Debug][Debug-Log] static:[ra]send ra notify message! m[0],o[1],lanPrefix[null],mtu[1472],gateway[fe80::1]\\n',\n",
       " '1981-01-01 00:14:12 [Informational][Debug-Log] static:The service quality of DNS on wan1 is low\\n',\n",
       " '1981-01-01 00:15:12 [Informational][Debug-Log] static:The service quality of DNS on wan1 is recovered\\n',\n",
       " '1981-01-01 00:21:12 [Informational][Debug-Log] static:The service quality of DNS on wan1 is low\\n',\n",
       " '1981-01-01 00:22:12 [Informational][Debug-Log] static:The service quality of DNS on wan1 is recovered\\n',\n",
       " '1981-01-01 00:30:12 [Informational][Debug-Log] static:The service quality of DNS on wan1 is low\\n',\n",
       " '1981-01-01 00:31:12 [Informational][Debug-Log] static:The service quality of DNS on wan1 is recovered\\n',\n",
       " '1981-01-01 00:36:26 [Alert][Debug-Log] dynamic:Load memu from the directory [/html/menu/MenuSmartAbroad.xml].\\n']"
      ]
     },
     "execution_count": 27,
     "metadata": {},
     "output_type": "execute_result"
    }
   ],
   "source": [
    "entries"
   ]
  },
  {
   "cell_type": "markdown",
   "id": "774c8a88-a47a-40f8-b2cc-69dec691cbba",
   "metadata": {},
   "source": [
    "<h2 align=center> Data Wrangling </h2>"
   ]
  },
  {
   "cell_type": "markdown",
   "id": "37c95574-8e93-4093-81da-e5bcfea7d43f",
   "metadata": {},
   "source": [
    "<h3 align=center> Logic </h3>\n",
    "\n",
    "1. Have each line read in as an element in a list.\n",
    "2. Loop through the list.  \n",
    "    1. Find the timestamp where internet connection is lost. This is denoted by `The service quality of DNS on wan1 is low`\n",
    "    2. Find the timestamp for when internet connection is reestablished. `The service quality of DNS on wan1 is recovered`"
   ]
  },
  {
   "cell_type": "code",
   "execution_count": 28,
   "id": "7581a22f-3c05-46fc-ba37-bb037963a337",
   "metadata": {
    "tags": []
   },
   "outputs": [
    {
     "name": "stdout",
     "output_type": "stream",
     "text": [
      "Help on function search in module re:\n",
      "\n",
      "search(pattern, string, flags=0)\n",
      "    Scan through string looking for a match to the pattern, returning\n",
      "    a Match object, or None if no match was found.\n",
      "\n"
     ]
    }
   ],
   "source": [
    "help(re.search)"
   ]
  },
  {
   "cell_type": "code",
   "execution_count": 29,
   "id": "26851b0a-ec5f-46f5-819e-6fae2eef447a",
   "metadata": {
    "tags": []
   },
   "outputs": [],
   "source": [
    "def extract_string(regex_t: str) -> str | None:\n",
    "    \"\"\"regex_t: the regex to match in the string\"\"\"\n",
    "    search = re.search(regex_t, entry)\n",
    "    if search is not None:\n",
    "        groups = search.group()\n",
    "        if isinstance(groups, str):\n",
    "            print(\"Expected. Found one matching\")\n",
    "            return groups\n",
    "\n",
    "        elif isinstance(groups, tuple):\n",
    "            print(\"Unexpected. Found more than one matching\")\n",
    "            raise ValueError(f\"Found the following matches: {groups}\")\n",
    "        else:\n",
    "            raise ValueError(\"Unexpected. Did not find exactly one matching\")"
   ]
  },
  {
   "cell_type": "code",
   "execution_count": 30,
   "id": "c7c315a7-77c6-41a1-82ce-838cbd0a5845",
   "metadata": {
    "scrolled": true,
    "tags": []
   },
   "outputs": [
    {
     "name": "stdout",
     "output_type": "stream",
     "text": [
      "Expected. Found one matching\n",
      "Expected. Found one matching\n",
      "Expected. Found one matching\n",
      "Expected. Found one matching\n",
      "Expected. Found one matching\n",
      "Expected. Found one matching\n",
      "Expected. Found one matching\n",
      "Expected. Found one matching\n",
      "Expected. Found one matching\n",
      "Expected. Found one matching\n",
      "Expected. Found one matching\n",
      "Expected. Found one matching\n",
      "Expected. Found one matching\n",
      "Expected. Found one matching\n",
      "Expected. Found one matching\n",
      "Expected. Found one matching\n",
      "Expected. Found one matching\n",
      "Expected. Found one matching\n",
      "Expected. Found one matching\n",
      "Expected. Found one matching\n",
      "Expected. Found one matching\n",
      "Expected. Found one matching\n",
      "Expected. Found one matching\n",
      "Expected. Found one matching\n",
      "Expected. Found one matching\n",
      "Expected. Found one matching\n",
      "Expected. Found one matching\n",
      "Expected. Found one matching\n",
      "Expected. Found one matching\n",
      "Expected. Found one matching\n",
      "Expected. Found one matching\n",
      "Expected. Found one matching\n",
      "Expected. Found one matching\n",
      "Expected. Found one matching\n",
      "Expected. Found one matching\n",
      "Expected. Found one matching\n",
      "Expected. Found one matching\n",
      "Expected. Found one matching\n",
      "Expected. Found one matching\n",
      "Expected. Found one matching\n",
      "Expected. Found one matching\n",
      "Expected. Found one matching\n",
      "Expected. Found one matching\n",
      "Expected. Found one matching\n",
      "Expected. Found one matching\n",
      "Expected. Found one matching\n",
      "Expected. Found one matching\n",
      "Expected. Found one matching\n",
      "Expected. Found one matching\n",
      "Expected. Found one matching\n",
      "Expected. Found one matching\n",
      "Expected. Found one matching\n",
      "Expected. Found one matching\n",
      "Expected. Found one matching\n",
      "Expected. Found one matching\n",
      "Expected. Found one matching\n",
      "Expected. Found one matching\n",
      "Expected. Found one matching\n",
      "Expected. Found one matching\n",
      "Expected. Found one matching\n",
      "Expected. Found one matching\n",
      "Expected. Found one matching\n",
      "Expected. Found one matching\n",
      "Expected. Found one matching\n",
      "Expected. Found one matching\n",
      "Expected. Found one matching\n",
      "Expected. Found one matching\n",
      "Expected. Found one matching\n"
     ]
    }
   ],
   "source": [
    "observations = []\n",
    "\n",
    "for entry in entries:\n",
    "    # The two data points we are interested in\n",
    "    # Status is 0, down, and 1, up\n",
    "    timestamp = None\n",
    "    status = None\n",
    "    \n",
    "    regex_t = r'\\d+-\\d+-\\d+ \\d+:\\d+:\\d+'\n",
    "    # print(entry)\n",
    "    \n",
    "    search_a = re.search(\"The service quality of DNS on wan1 is low\", entry)\n",
    "    if search_a is not None:\n",
    "        timestamp = extract_string(regex_t)\n",
    "        status = 0\n",
    "    \n",
    "    search_a = re.search(\"The service quality of DNS on wan1 is recovered\", entry)\n",
    "    if search_a is not None:\n",
    "        timestamp = extract_string(regex_t)\n",
    "        status = 1\n",
    "        \n",
    "    observations.append((timestamp, status))"
   ]
  },
  {
   "cell_type": "code",
   "execution_count": 31,
   "id": "ab7baae5-2783-43e9-a54c-39caca7c373e",
   "metadata": {
    "tags": []
   },
   "outputs": [],
   "source": [
    "df = pd.DataFrame(observations)"
   ]
  },
  {
   "cell_type": "code",
   "execution_count": 32,
   "id": "127ada92-a7ca-452e-995c-44a301903c51",
   "metadata": {
    "tags": []
   },
   "outputs": [],
   "source": [
    "df.dropna(inplace=True)"
   ]
  },
  {
   "cell_type": "code",
   "execution_count": 33,
   "id": "24f5f80c-dfc5-4524-9254-48cb853753b4",
   "metadata": {
    "tags": []
   },
   "outputs": [],
   "source": [
    "df.index = pd.to_datetime(df.iloc[:,0])"
   ]
  },
  {
   "cell_type": "code",
   "execution_count": 34,
   "id": "cf4a8fe5-4166-449a-9354-a7cd25c86460",
   "metadata": {
    "tags": []
   },
   "outputs": [],
   "source": [
    "df.columns = ['timestamp', 'state']"
   ]
  },
  {
   "cell_type": "code",
   "execution_count": 35,
   "id": "8ef28449-85c4-4eaf-9f19-af105c378da8",
   "metadata": {
    "tags": []
   },
   "outputs": [],
   "source": [
    "df.drop(columns='timestamp', inplace=True)"
   ]
  },
  {
   "cell_type": "code",
   "execution_count": 36,
   "id": "8861ee4c-c30d-4535-9c57-776fb0cfa964",
   "metadata": {
    "tags": []
   },
   "outputs": [
    {
     "data": {
      "text/html": [
       "<div>\n",
       "<style scoped>\n",
       "    .dataframe tbody tr th:only-of-type {\n",
       "        vertical-align: middle;\n",
       "    }\n",
       "\n",
       "    .dataframe tbody tr th {\n",
       "        vertical-align: top;\n",
       "    }\n",
       "\n",
       "    .dataframe thead th {\n",
       "        text-align: right;\n",
       "    }\n",
       "</style>\n",
       "<table border=\"1\" class=\"dataframe\">\n",
       "  <thead>\n",
       "    <tr style=\"text-align: right;\">\n",
       "      <th></th>\n",
       "      <th>state</th>\n",
       "    </tr>\n",
       "    <tr>\n",
       "      <th>0</th>\n",
       "      <th></th>\n",
       "    </tr>\n",
       "  </thead>\n",
       "  <tbody>\n",
       "    <tr>\n",
       "      <th>1981-01-01 00:08:13</th>\n",
       "      <td>0.0</td>\n",
       "    </tr>\n",
       "    <tr>\n",
       "      <th>1981-01-01 00:09:13</th>\n",
       "      <td>1.0</td>\n",
       "    </tr>\n",
       "    <tr>\n",
       "      <th>1981-01-01 00:13:13</th>\n",
       "      <td>0.0</td>\n",
       "    </tr>\n",
       "    <tr>\n",
       "      <th>1981-01-01 00:17:13</th>\n",
       "      <td>1.0</td>\n",
       "    </tr>\n",
       "    <tr>\n",
       "      <th>1981-01-01 00:23:13</th>\n",
       "      <td>0.0</td>\n",
       "    </tr>\n",
       "  </tbody>\n",
       "</table>\n",
       "</div>"
      ],
      "text/plain": [
       "                     state\n",
       "0                         \n",
       "1981-01-01 00:08:13    0.0\n",
       "1981-01-01 00:09:13    1.0\n",
       "1981-01-01 00:13:13    0.0\n",
       "1981-01-01 00:17:13    1.0\n",
       "1981-01-01 00:23:13    0.0"
      ]
     },
     "execution_count": 36,
     "metadata": {},
     "output_type": "execute_result"
    }
   ],
   "source": [
    "df.head()"
   ]
  },
  {
   "cell_type": "markdown",
   "id": "01ee0225-98ef-4cbf-9225-56c3c73db7d2",
   "metadata": {},
   "source": [
    "<h2 align=center> Visualization (Step Plot) </h2>"
   ]
  },
  {
   "cell_type": "code",
   "execution_count": 37,
   "id": "880ba5a5-7e00-4898-a2ee-3bef4e96e950",
   "metadata": {},
   "outputs": [
    {
     "data": {
      "image/png": "[encoded data removed]",
      "text/plain": [
       "<Figure size 1440x432 with 1 Axes>"
      ]
     },
     "metadata": {
      "needs_background": "light"
     },
     "output_type": "display_data"
    }
   ],
   "source": [
    "# Plot 2: The \"step\" plot (what you want)\n",
    "plt.figure(figsize=(20, 6))\n",
    "# Use plt.step(). 'where=\"post\"' means the y-value is held from x[i] to x[i+1]\n",
    "plt.step(df.index, df.state, where='post')\n",
    "plt.title(\"Router Uptime vs Downtime\")\n",
    "plt.xlabel(\"Time\")\n",
    "plt.ylabel(\"State\")\n",
    "plt.yticks([0, 1]) # Ensure y-axis only shows 0 and 1\n",
    "plt.ylim(-0.1, 1.1) # Add a little padding to y-axis so 0 and 1 aren't on the edge\n",
    "plt.grid(True, axis='y', linestyle=':') # Optional grid for clarity"
   ]
  },
  {
   "cell_type": "markdown",
   "id": "a16be200-5ae7-4bde-b379-dd3ec4e924bc",
   "metadata": {},
   "source": [
    "<h2 align=center> Time Spent in Each State (Experimental) </h2>"
   ]
  },
  {
   "cell_type": "code",
   "execution_count": 38,
   "id": "1f350b1f-e4a4-4ecc-9f74-97e8b7f833af",
   "metadata": {},
   "outputs": [
    {
     "name": "stdout",
     "output_type": "stream",
     "text": [
      "\n",
      "DataFrame with calculations:\n",
      "                     state      time_delta  state_during_delta\n",
      "0                                                             \n",
      "1981-01-01 00:08:13    0.0             NaT                 NaN\n",
      "1981-01-01 00:09:13    1.0 0 days 00:01:00                 0.0\n",
      "1981-01-01 00:13:13    0.0 0 days 00:04:00                 1.0\n",
      "1981-01-01 00:17:13    1.0 0 days 00:04:00                 0.0\n",
      "1981-01-01 00:23:13    0.0 0 days 00:06:00                 1.0\n",
      "...                    ...             ...                 ...\n",
      "1981-01-01 00:15:12    1.0 0 days 00:01:00                 0.0\n",
      "1981-01-01 00:21:12    0.0 0 days 00:06:00                 1.0\n",
      "1981-01-01 00:22:12    1.0 0 days 00:01:00                 0.0\n",
      "1981-01-01 00:30:12    0.0 0 days 00:08:00                 1.0\n",
      "1981-01-01 00:31:12    1.0 0 days 00:01:00                 0.0\n",
      "\n",
      "[68 rows x 3 columns]\n",
      "------------------------------\n",
      "\n",
      "Time spent in each state:\n",
      "State\n",
      "0   -1 days +21:33:03\n",
      "1     0 days 02:49:56\n",
      "Name: time_delta, dtype: timedelta64[ns]\n"
     ]
    }
   ],
   "source": [
    "# Make a copy to work on, to avoid modifying the original df if it's a slice\n",
    "df_calc = df.copy()\n",
    "\n",
    "# Calculate the difference in time between consecutive rows.\n",
    "# This gives the duration for which the *previous* row's state was active.\n",
    "df_calc['time_delta'] = df_calc.index.to_series().diff()\n",
    "\n",
    "# Shift the 'state' column down by one.\n",
    "# This aligns the state with the duration it was active for.\n",
    "# So, `time_delta` at row `i` corresponds to the duration for `state` at row `i-1`.\n",
    "df_calc['state_during_delta'] = df_calc['state'].shift(1)\n",
    "\n",
    "# The first row will have NaT for 'time_delta' and NaN for 'state_during_delta'\n",
    "# because there's no previous row to calculate from.\n",
    "# These NaN values will be automatically ignored by the groupby().sum().\n",
    "\n",
    "print(\"\\nDataFrame with calculations:\")\n",
    "print(df_calc)\n",
    "print(\"-\" * 30)\n",
    "\n",
    "# Group by the 'state_during_delta' and sum the 'time_delta'\n",
    "time_spent_in_each_state = df_calc.groupby('state_during_delta')['time_delta'].sum()\n",
    "\n",
    "# The result will have states 0.0 and 1.0 as index if 'state' was int.\n",
    "# We can rename the index for clarity if needed, or convert to int.\n",
    "time_spent_in_each_state.index = time_spent_in_each_state.index.astype(int)\n",
    "time_spent_in_each_state.index.name = 'State'\n",
    "\n",
    "print(\"\\nTime spent in each state:\")\n",
    "print(time_spent_in_each_state)"
   ]
  },
  {
   "cell_type": "code",
   "execution_count": null,
   "id": "bc662acc-a57a-4815-bc72-ce0b7a173822",
   "metadata": {},
   "outputs": [],
   "source": []
  }
 ],
 "metadata": {
  "kernelspec": {
   "display_name": "Python 3 (ipykernel)",
   "language": "python",
   "name": "python3"
  },
  "language_info": {
   "codemirror_mode": {
    "name": "ipython",
    "version": 3
   },
   "file_extension": ".py",
   "mimetype": "text/x-python",
   "name": "python",
   "nbconvert_exporter": "python",
   "pygments_lexer": "ipython3",
   "version": "3.10.4"
  }
 },
 "nbformat": 4,
 "nbformat_minor": 5
}
